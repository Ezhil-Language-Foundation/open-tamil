{
  "nbformat": 4,
  "nbformat_minor": 0,
  "metadata": {
    "colab": {
      "name": "linear_regression_irumarigal.ipnb",
      "provenance": [],
      "collapsed_sections": []
    },
    "kernelspec": {
      "name": "python3",
      "display_name": "Python 3"
    },
    "language_info": {
      "name": "python"
    }
  },
  "cells": [
    {
      "cell_type": "code",
      "metadata": {
        "colab": {
          "base_uri": "https://localhost:8080/"
        },
        "id": "Z6NDHqfRRZAg",
        "outputId": "5feb84a0-b8c4-43ee-919c-d16c919e3dde"
      },
      "source": [
        "# (C) 2021, முத்து அண்ணாமலை <ezhillang@gmail.com>\n",
        "# இந்த நிரல் பொதுவெளி உரிமத்தில் வைக்கப்படுகிறது.\n",
        "# இந்த நிரல் வழி ஏற்படும் எந்த விளைவிற்கும் ஆசிரியை\n",
        "# பொருப்பு ஏற்றுக்கொள்ளமாட்டார்.\n",
        "# \n",
        "# ஒரு நேர் கோட்டு 'linear' தரவை ஆழக்கற்றல்மூலம் எப்படி கண்டறிவது?\n",
        "# உதாரணத்திற்கு நமது தரவில் X என்ற மாரி ஒரு இரு உருப்படி கொண்ட அணியாக\n",
        "# எடுத்துக்கொள்ளலாம்; இதன் முதல் மதிப்பு [0,100] என்ற இடைவெளியில் மற்றும்,\n",
        "# இரண்டாம் மதிப்பு [0,40] என்ற இடைவெளியிலும்\n",
        "# கொடுக்கப்பட்டிருக்கு (இது ஒரு நபரின் வயது, இடை சுற்றளவு என்றம் வைத்துக்கொள்ளலாம்)\n",
        "# நபரின் எடை என்பது Y என்ற மாரியில் X என்பதன் சார்பாக விளைகிறது.\n",
        "# ஆகையால் இந்த சார்புதன்மையை நாம் ஒரு செயற்கை வழி கற்றலின் மூலம்\n",
        "# எப்படி கற்றுக்கொள்ளலாம் ?\n",
        "\n",
        "# முதலில் நமது தரவை உருவாக்கலாம்\n",
        "import numpy as np\n",
        "from matplotlib import pyplot as plt\n",
        "from keras.layers import Dense, Input\n",
        "from keras.optimizers import adam_v2\n",
        "from keras.models import Sequential\n",
        "from math import pi\n",
        "\n",
        "def எடை_கணக்கிடு( x_மதிப்பு ):\n",
        "    \"\"\" ஒரு நபரின் வயது, இடை சுற்றளவு, ஆகியவையில் இருந்து எடை என்பதை கணக்கிட \"\"\"\n",
        "    y_மதிப்பு = x_மதிப்பு[:,0]*4 + (x_மதிப்பு[:,1]/(2*pi))**2 + 20\n",
        "    return y_மதிப்பு\n",
        "\n",
        "வயது = np.linspace(0,100,512)\n",
        "இடை_சுற்றளவு = np.linspace(0,40,40)\n",
        "X_பயில் = np.array( [[np.random.choice(வயது),np.random.choice(இடை_சுற்றளவு)] for _ in range(512)] )\n",
        "Y_பயில் = எடை_கணக்கிடு(X_பயில்)\n",
        "\n",
        "வயது = np.linspace(30,130,100)\n",
        "இடை_சுற்றளவு = np.linspace(40,60,20)\n",
        "X_பரிசோதி = np.array( [[np.random.choice(வயது),np.random.choice(இடை_சுற்றளவு)] for _ in range(512)] )\n",
        "Y_பரிசோதி = எடை_கணக்கிடு(X_பரிசோதி)\n",
        "\n",
        "# நேர்கோட்டு சார்பு தன்மையை விளக்கம் செய்ய ஒரு\n",
        "# செயற்கை பின்னலை வரையரை செய்யலாம்\n",
        "model = Sequential()\n",
        "model.add(Input(shape=(2,)))\n",
        "model.add(Dense(units=8,activation='relu'))\n",
        "model.add(Dense(units=8,activation='relu'))\n",
        "\n",
        "# நாம் உருவாக்கிய மாதிரி எப்படி இருக்கிறது? இரண்டு மரிகள் கொண்டதையே இங்கு காணலாம்\n",
        "model.summary()\n",
        "\n",
        "model.compile(optimizer=adam_v2.Adam(learning_rate=0.125),loss='mse')\n"
      ],
      "execution_count": null,
      "outputs": [
        {
          "output_type": "stream",
          "name": "stdout",
          "text": [
            "Model: \"sequential_6\"\n",
            "_________________________________________________________________\n",
            " Layer (type)                Output Shape              Param #   \n",
            "=================================================================\n",
            " dense_6 (Dense)             (None, 8)                 24        \n",
            "                                                                 \n",
            " dense_7 (Dense)             (None, 8)                 72        \n",
            "                                                                 \n",
            "=================================================================\n",
            "Total params: 96\n",
            "Trainable params: 96\n",
            "Non-trainable params: 0\n",
            "_________________________________________________________________\n"
          ]
        }
      ]
    },
    {
      "cell_type": "code",
      "metadata": {
        "colab": {
          "base_uri": "https://localhost:8080/"
        },
        "id": "AEfd3SogRchQ",
        "outputId": "7dcb115e-1d46-48b9-9275-51ca9af50e42"
      },
      "source": [
        "# இதை பயில்விக்கலாம் வாங்க!\n",
        "nepochs=30\n",
        "history = model.fit(X_பயில்,Y_பயில்,epochs=nepochs,batch_size=128,validation_split=0.2)\n",
        "print(history.history)\n",
        "loss = history.history['loss']\n"
      ],
      "execution_count": null,
      "outputs": [
        {
          "output_type": "stream",
          "name": "stdout",
          "text": [
            "Epoch 1/30\n",
            "4/4 [==============================] - 0s 40ms/step - loss: 52580.7227 - val_loss: 36223.4219\n",
            "Epoch 2/30\n",
            "4/4 [==============================] - 0s 10ms/step - loss: 23014.6543 - val_loss: 15331.5508\n",
            "Epoch 3/30\n",
            "4/4 [==============================] - 0s 10ms/step - loss: 15369.1748 - val_loss: 14645.9893\n",
            "Epoch 4/30\n",
            "4/4 [==============================] - 0s 11ms/step - loss: 11169.2197 - val_loss: 9930.8438\n",
            "Epoch 5/30\n",
            "4/4 [==============================] - 0s 10ms/step - loss: 9787.7715 - val_loss: 13128.1338\n",
            "Epoch 6/30\n",
            "4/4 [==============================] - 0s 10ms/step - loss: 11547.4434 - val_loss: 11110.4854\n",
            "Epoch 7/30\n",
            "4/4 [==============================] - 0s 12ms/step - loss: 9212.5596 - val_loss: 9127.3760\n",
            "Epoch 8/30\n",
            "4/4 [==============================] - 0s 12ms/step - loss: 8298.6797 - val_loss: 9371.0713\n",
            "Epoch 9/30\n",
            "4/4 [==============================] - 0s 12ms/step - loss: 8233.8330 - val_loss: 8947.5986\n",
            "Epoch 10/30\n",
            "4/4 [==============================] - 0s 13ms/step - loss: 8111.9946 - val_loss: 9253.0518\n",
            "Epoch 11/30\n",
            "4/4 [==============================] - 0s 9ms/step - loss: 8186.7178 - val_loss: 8762.1338\n",
            "Epoch 12/30\n",
            "4/4 [==============================] - 0s 9ms/step - loss: 7809.4087 - val_loss: 8802.0654\n",
            "Epoch 13/30\n",
            "4/4 [==============================] - 0s 11ms/step - loss: 7891.7339 - val_loss: 8732.8662\n",
            "Epoch 14/30\n",
            "4/4 [==============================] - 0s 12ms/step - loss: 7804.1973 - val_loss: 8754.6787\n",
            "Epoch 15/30\n",
            "4/4 [==============================] - 0s 11ms/step - loss: 7839.5366 - val_loss: 8684.2939\n",
            "Epoch 16/30\n",
            "4/4 [==============================] - 0s 10ms/step - loss: 7758.1108 - val_loss: 8682.7764\n",
            "Epoch 17/30\n",
            "4/4 [==============================] - 0s 10ms/step - loss: 7775.2432 - val_loss: 8668.5977\n",
            "Epoch 18/30\n",
            "4/4 [==============================] - 0s 10ms/step - loss: 7751.6313 - val_loss: 8670.0361\n",
            "Epoch 19/30\n",
            "4/4 [==============================] - 0s 11ms/step - loss: 7758.8525 - val_loss: 8655.2314\n",
            "Epoch 20/30\n",
            "4/4 [==============================] - 0s 9ms/step - loss: 7743.5117 - val_loss: 8656.5723\n",
            "Epoch 21/30\n",
            "4/4 [==============================] - 0s 11ms/step - loss: 7748.0396 - val_loss: 8649.9883\n",
            "Epoch 22/30\n",
            "4/4 [==============================] - 0s 11ms/step - loss: 7740.5615 - val_loss: 8652.7217\n",
            "Epoch 23/30\n",
            "4/4 [==============================] - 0s 11ms/step - loss: 7742.1255 - val_loss: 8646.7529\n",
            "Epoch 24/30\n",
            "4/4 [==============================] - 0s 9ms/step - loss: 7738.2573 - val_loss: 8647.8281\n",
            "Epoch 25/30\n",
            "4/4 [==============================] - 0s 9ms/step - loss: 7738.4546 - val_loss: 8645.2520\n",
            "Epoch 26/30\n",
            "4/4 [==============================] - 0s 10ms/step - loss: 7737.0469 - val_loss: 8645.6709\n",
            "Epoch 27/30\n",
            "4/4 [==============================] - 0s 11ms/step - loss: 7736.4512 - val_loss: 8643.8867\n",
            "Epoch 28/30\n",
            "4/4 [==============================] - 0s 11ms/step - loss: 7735.5635 - val_loss: 8643.4961\n",
            "Epoch 29/30\n",
            "4/4 [==============================] - 0s 10ms/step - loss: 7734.8608 - val_loss: 8643.4785\n",
            "Epoch 30/30\n",
            "4/4 [==============================] - 0s 10ms/step - loss: 7735.2568 - val_loss: 8642.9258\n",
            "{'loss': [52580.72265625, 23014.654296875, 15369.1748046875, 11169.2197265625, 9787.771484375, 11547.443359375, 9212.5595703125, 8298.6796875, 8233.8330078125, 8111.99462890625, 8186.7177734375, 7809.40869140625, 7891.73388671875, 7804.197265625, 7839.53662109375, 7758.11083984375, 7775.2431640625, 7751.63134765625, 7758.8525390625, 7743.51171875, 7748.03955078125, 7740.5615234375, 7742.12548828125, 7738.25732421875, 7738.45458984375, 7737.046875, 7736.451171875, 7735.5634765625, 7734.86083984375, 7735.2568359375], 'val_loss': [36223.421875, 15331.55078125, 14645.9892578125, 9930.84375, 13128.1337890625, 11110.4853515625, 9127.3759765625, 9371.0712890625, 8947.5986328125, 9253.0517578125, 8762.1337890625, 8802.0654296875, 8732.8662109375, 8754.6787109375, 8684.2939453125, 8682.7763671875, 8668.59765625, 8670.0361328125, 8655.2314453125, 8656.572265625, 8649.98828125, 8652.7216796875, 8646.7529296875, 8647.828125, 8645.251953125, 8645.6708984375, 8643.88671875, 8643.49609375, 8643.478515625, 8642.92578125]}\n"
          ]
        }
      ]
    },
    {
      "cell_type": "code",
      "metadata": {
        "colab": {
          "base_uri": "https://localhost:8080/",
          "height": 1000
        },
        "id": "PlqDGRz4RefR",
        "outputId": "1d521454-7946-4146-fdd3-ebd77848f4be"
      },
      "source": [
        "\n",
        "# இரண்டு மாதிரிகளின் மதிப்பு எண்ண ?\n",
        "print(model.weights)\n",
        "\n",
        "# சரி - ஆழக்கற்றல் பின்னல்களின் ஒரு வெளிப்பாடானது\n",
        "# பயில்விக்கும் சமயம் ஒவ்வொறு கணமும் உள்ள பயிற்சி\n",
        "# மதிப்பு குறைவு (loss) குறைந்த படியே செல்லவேண்டும்.\n",
        "# இதனை வரைபடமாக காணலாம்:\n",
        "plt.plot(np.arange(nepochs),loss)\n",
        "plt.title('training loss vs nepochs')\n",
        "plt.legend(['training loss'])\n",
        "plt.show()\n",
        "\n",
        "# அடுத்த பயில்விக்காத தரவின்மீது எமது செயற்கைபின்னல்\n",
        "# எப்படி செயல்படுகிறது? இதையும் இங்கு காணலாம்\n",
        "Y_யுகித்த = model.predict(np.array(X_பரிசோதி))\n",
        "plt.plot(X_பரிசோதி,Y_பரிசோதி,'+g',X_பரிசோதி,Y_யுகித்த,'-ob')\n",
        "plt.legend(['pred','actual'])\n",
        "plt.show()\n"
      ],
      "execution_count": null,
      "outputs": [
        {
          "output_type": "stream",
          "name": "stdout",
          "text": [
            "[<tf.Variable 'dense_6/kernel:0' shape=(2, 8) dtype=float32, numpy=\n",
            "array([[-0.24633473, -0.94575554, -1.4603648 ,  0.99429315,  1.5480273 ,\n",
            "        -0.45802143,  0.8898571 , -0.52291274],\n",
            "       [-0.61481124, -0.27716312, -0.6273725 ,  0.27302548, -0.00271033,\n",
            "        -0.07500631,  0.84133005, -0.3360913 ]], dtype=float32)>, <tf.Variable 'dense_6/bias:0' shape=(8,) dtype=float32, numpy=\n",
            "array([ 0.        , -0.6997188 , -0.75067824,  1.1047844 ,  1.4316852 ,\n",
            "        0.        ,  1.1865197 ,  0.        ], dtype=float32)>, <tf.Variable 'dense_7/kernel:0' shape=(8, 8) dtype=float32, numpy=\n",
            "array([[ 0.5118819 ,  0.5929337 , -0.26628926,  0.23462969,  0.2081911 ,\n",
            "         0.36126655, -0.102938  , -0.4713796 ],\n",
            "       [-0.33736986,  0.4119901 ,  1.5254289 ,  1.1382313 ,  0.9609785 ,\n",
            "         0.43206942,  0.589188  ,  0.40854356],\n",
            "       [-0.51204437,  0.96366376,  0.22415727,  0.2654613 ,  0.20288908,\n",
            "        -0.6043953 , -0.45469815, -0.18892688],\n",
            "       [-0.58159137,  1.123539  ,  1.1880755 ,  0.85914826,  0.8593709 ,\n",
            "         0.98186827,  1.061359  ,  1.0659394 ],\n",
            "       [ 0.30114084,  1.2849146 ,  1.0926507 ,  1.4119937 ,  1.2712843 ,\n",
            "         1.4755375 ,  1.5287936 ,  1.280322  ],\n",
            "       [ 0.0629788 , -0.54151845, -0.40909925, -0.20238814,  0.10571593,\n",
            "        -0.22287574,  0.5090932 , -0.47234   ],\n",
            "       [-0.335507  ,  1.0576091 ,  1.2435467 ,  1.1361021 ,  1.3156403 ,\n",
            "         0.9314005 ,  0.79116386,  1.1163743 ],\n",
            "       [-0.27401683,  0.09433138,  0.57395095,  0.5530885 ,  0.09179211,\n",
            "         0.3951351 ,  0.12506616, -0.39027593]], dtype=float32)>, <tf.Variable 'dense_7/bias:0' shape=(8,) dtype=float32, numpy=\n",
            "array([0.       , 1.5918803, 1.6467828, 1.7623268, 1.6807063, 2.0537434,\n",
            "       2.1383288, 1.7738249], dtype=float32)>]\n"
          ]
        },
        {
          "output_type": "display_data",
          "data": {
            "image/png": "[encoded data removed]",
            "text/plain": [
              "<Figure size 432x288 with 1 Axes>"
            ]
          },
          "metadata": {
            "needs_background": "light"
          }
        },
        {
          "output_type": "stream",
          "name": "stderr",
          "text": [
            "/usr/local/lib/python3.7/dist-packages/ipykernel_launcher.py:17: MatplotlibDeprecationWarning: cycling among columns of inputs with non-matching shapes is deprecated.\n"
          ]
        },
        {
          "output_type": "display_data",
          "data": {
            "image/png": "[encoded data removed]",
            "text/plain": [
              "<Figure size 432x288 with 1 Axes>"
            ]
          },
          "metadata": {
            "needs_background": "light"
          }
        }
      ]
    },
    {
      "cell_type": "code",
      "metadata": {
        "id": "FqwUue-_ReX_"
      },
      "source": [
        ""
      ],
      "execution_count": null,
      "outputs": []
    }
  ]
}