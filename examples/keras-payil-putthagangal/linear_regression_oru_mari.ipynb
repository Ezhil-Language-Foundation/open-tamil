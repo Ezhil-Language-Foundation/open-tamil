{
  "nbformat": 4,
  "nbformat_minor": 0,
  "metadata": {
    "colab": {
      "name": "linear_regression_oru_mari.ipynb",
      "provenance": [],
      "collapsed_sections": []
    },
    "kernelspec": {
      "name": "python3",
      "display_name": "Python 3"
    },
    "language_info": {
      "name": "python"
    }
  },
  "cells": [
    {
      "cell_type": "code",
      "metadata": {
        "id": "c2q4njImPzLh",
        "colab": {
          "base_uri": "https://localhost:8080/",
          "height": 1000
        },
        "outputId": "e11e6ab2-4b60-45ee-a847-eb02ef16bdc6"
      },
      "source": [
        "# (C) 2021, முத்து அண்ணாமலை <ezhillang@gmail.com>\n",
        "# இந்த நிரல் பொதுவெளி உரிமத்தில் வைக்கப்படுகிறது.\n",
        "# இந்த நிரல் வழி ஏற்படும் எந்த விளைவிற்கும் ஆசிரியை\n",
        "# பொருப்பு ஏற்றுக்கொள்ளமாட்டார்.\n",
        "# \n",
        "# ஒரு நேர் கோட்டு 'linear' தரவை ஆழக்கற்றல்மூலம் எப்படி கண்டறிவது?\n",
        "# உதாரணத்திற்கு நமது தரவில் X என்ற மாரி [0,100] என்ற இடைவெளியில்\n",
        "# கொடுக்கப்பட்டிருக்கு (இது ஒரு நபரின் வயது என்று வைத்துக்கொள்ளலாம்)\n",
        "# நபரின் எடை என்பது Y என்ற மாரியில் X என்பதன் சார்பாக விளைகிறது.\n",
        "# ஆகையால் இந்த சார்புதன்மையை நாம் ஒரு செயற்கை வழி கற்றலின் மூலம்\n",
        "# எப்படி கற்றுக்கொள்ளலாம் ?\n",
        "\n",
        "# முதலில் நமது தரவை உருவாக்கலாம்\n",
        "import numpy as np\n",
        "from matplotlib import pyplot as plt\n",
        "from keras.layers import Dense, Input\n",
        "from keras.optimizers import adam_v2\n",
        "from keras.models import Sequential\n",
        "\n",
        "def எடை_கணக்கிடு( x_மதிப்பு ):\n",
        "    \"\"\" ஒரு நபரின் வயதில் இருந்து எடை என்பதை கணக்கிட \"\"\"\n",
        "    y_மதிப்பு = x_மதிப்பு*4 + 20\n",
        "    return y_மதிப்பு\n",
        "\n",
        "X_பயில் = np.linspace(0,100,512)\n",
        "Y_பயில் = எடை_கணக்கிடு(X_பயில்)\n",
        "\n",
        "X_பரிசோதி = np.linspace(25,175,50)\n",
        "Y_பரிசோதி = எடை_கணக்கிடு(X_பரிசோதி)\n",
        "\n",
        "# நேர்கோட்டு சார்பு தன்மையை விளக்கம் செய்ய ஒரு\n",
        "# செயற்கை பின்னலை வரையரை செய்யலாம்\n",
        "model = Sequential()\n",
        "model.add(Input(shape=(1,)))\n",
        "model.add(Dense(units=1,activation='relu'))\n",
        "\n",
        "# நாம் உருவாக்கிய மாதிரி எப்படி இருக்கிறது? இரண்டு மரிகள் கொண்டதையே இங்கு காணலாம்\n",
        "model.summary()\n",
        "\n",
        "model.compile(optimizer=adam_v2.Adam(learning_rate=0.125),loss='mse')\n",
        "\n",
        "# இதை பயில்விக்கலாம் வாங்க!\n",
        "nepochs=30\n",
        "history = model.fit(X_பயில்,Y_பயில்,epochs=nepochs,batch_size=128,validation_split=0.2)\n",
        "print(history.history)\n",
        "loss = history.history['loss']\n",
        "\n",
        "# இரண்டு மாதிரிகளின் மதிப்பு எண்ண ?\n",
        "print(model.weights)\n",
        "\n",
        "# சரி - ஆழக்கற்றல் பின்னல்களின் ஒரு வெளிப்பாடானது\n",
        "# பயில்விக்கும் சமயம் ஒவ்வொறு கணமும் உள்ள பயிற்சி\n",
        "# மதிப்பு குறைவு (loss) குறைந்த படியே செல்லவேண்டும்.\n",
        "# இதனை வரைபடமாக காணலாம்:\n",
        "plt.plot(np.arange(nepochs),loss)\n",
        "plt.title('training loss vs nepochs')\n",
        "plt.legend(['training loss'])\n",
        "plt.show()\n",
        "\n",
        "# அடுத்த பயில்விக்காத தரவின்மீது எமது செயற்கைபின்னல்\n",
        "# எப்படி செயல்படுகிறது? இதையும் இங்கு காணலாம்\n",
        "Y_யுகித்த = model.predict(np.array(X_பரிசோதி))\n",
        "plt.plot(X_பரிசோதி,Y_பரிசோதி,'+g',X_பரிசோதி,Y_யுகித்த,'-ob')\n",
        "plt.legend(['pred','actual'])\n",
        "plt.show()\n"
      ],
      "execution_count": null,
      "outputs": [
        {
          "output_type": "stream",
          "name": "stdout",
          "text": [
            "Model: \"sequential_3\"\n",
            "_________________________________________________________________\n",
            " Layer (type)                Output Shape              Param #   \n",
            "=================================================================\n",
            " dense_3 (Dense)             (None, 1)                 2         \n",
            "                                                                 \n",
            "=================================================================\n",
            "Total params: 2\n",
            "Trainable params: 2\n",
            "Non-trainable params: 0\n",
            "_________________________________________________________________\n",
            "Epoch 1/30\n",
            "4/4 [==============================] - 1s 43ms/step - loss: 19416.1895 - val_loss: 50901.9219\n",
            "Epoch 2/30\n",
            "4/4 [==============================] - 0s 10ms/step - loss: 13541.5830 - val_loss: 32701.4062\n",
            "Epoch 3/30\n",
            "4/4 [==============================] - 0s 12ms/step - loss: 8810.1367 - val_loss: 19063.5234\n",
            "Epoch 4/30\n",
            "4/4 [==============================] - 0s 10ms/step - loss: 5153.7739 - val_loss: 9688.4443\n",
            "Epoch 5/30\n",
            "4/4 [==============================] - 0s 9ms/step - loss: 2732.2043 - val_loss: 3874.9954\n",
            "Epoch 6/30\n",
            "4/4 [==============================] - 0s 9ms/step - loss: 1210.6188 - val_loss: 947.8278\n",
            "Epoch 7/30\n",
            "4/4 [==============================] - 0s 9ms/step - loss: 407.2888 - val_loss: 26.5351\n",
            "Epoch 8/30\n",
            "4/4 [==============================] - 0s 9ms/step - loss: 109.9609 - val_loss: 209.8584\n",
            "Epoch 9/30\n",
            "4/4 [==============================] - 0s 10ms/step - loss: 86.4608 - val_loss: 761.3845\n",
            "Epoch 10/30\n",
            "4/4 [==============================] - 0s 11ms/step - loss: 161.0450 - val_loss: 1211.6189\n",
            "Epoch 11/30\n",
            "4/4 [==============================] - 0s 11ms/step - loss: 221.7580 - val_loss: 1367.1267\n",
            "Epoch 12/30\n",
            "4/4 [==============================] - 0s 10ms/step - loss: 235.2826 - val_loss: 1245.9044\n",
            "Epoch 13/30\n",
            "4/4 [==============================] - 0s 11ms/step - loss: 203.5192 - val_loss: 958.0156\n",
            "Epoch 14/30\n",
            "4/4 [==============================] - 0s 9ms/step - loss: 153.4208 - val_loss: 637.1990\n",
            "Epoch 15/30\n",
            "4/4 [==============================] - 0s 10ms/step - loss: 107.0745 - val_loss: 380.6271\n",
            "Epoch 16/30\n",
            "4/4 [==============================] - 0s 12ms/step - loss: 79.8514 - val_loss: 212.5906\n",
            "Epoch 17/30\n",
            "4/4 [==============================] - 0s 9ms/step - loss: 69.7517 - val_loss: 116.3402\n",
            "Epoch 18/30\n",
            "4/4 [==============================] - 0s 12ms/step - loss: 69.2565 - val_loss: 69.6897\n",
            "Epoch 19/30\n",
            "4/4 [==============================] - 0s 13ms/step - loss: 71.5904 - val_loss: 51.7934\n",
            "Epoch 20/30\n",
            "4/4 [==============================] - 0s 10ms/step - loss: 73.1735 - val_loss: 49.3699\n",
            "Epoch 21/30\n",
            "4/4 [==============================] - 0s 9ms/step - loss: 72.4418 - val_loss: 58.9275\n",
            "Epoch 22/30\n",
            "4/4 [==============================] - 0s 11ms/step - loss: 70.2927 - val_loss: 77.6904\n",
            "Epoch 23/30\n",
            "4/4 [==============================] - 0s 11ms/step - loss: 67.8923 - val_loss: 100.9628\n",
            "Epoch 24/30\n",
            "4/4 [==============================] - 0s 11ms/step - loss: 66.3765 - val_loss: 125.2952\n",
            "Epoch 25/30\n",
            "4/4 [==============================] - 0s 9ms/step - loss: 65.5754 - val_loss: 144.3248\n",
            "Epoch 26/30\n",
            "4/4 [==============================] - 0s 11ms/step - loss: 65.3843 - val_loss: 155.8994\n",
            "Epoch 27/30\n",
            "4/4 [==============================] - 0s 10ms/step - loss: 65.1315 - val_loss: 156.4268\n",
            "Epoch 28/30\n",
            "4/4 [==============================] - 0s 11ms/step - loss: 64.6900 - val_loss: 151.8849\n",
            "Epoch 29/30\n",
            "4/4 [==============================] - 0s 15ms/step - loss: 64.1561 - val_loss: 142.8609\n",
            "Epoch 30/30\n",
            "4/4 [==============================] - 0s 12ms/step - loss: 63.6985 - val_loss: 130.1601\n",
            "{'loss': [19416.189453125, 13541.5830078125, 8810.13671875, 5153.77392578125, 2732.204345703125, 1210.6187744140625, 407.2888488769531, 109.96090698242188, 86.4607925415039, 161.0450439453125, 221.75796508789062, 235.2826385498047, 203.5192108154297, 153.42083740234375, 107.07451629638672, 79.85138702392578, 69.75171661376953, 69.2564926147461, 71.59042358398438, 73.17346954345703, 72.4417724609375, 70.29270935058594, 67.89234161376953, 66.37653350830078, 65.57538604736328, 65.38430786132812, 65.13146209716797, 64.68995666503906, 64.1561050415039, 63.6984748840332], 'val_loss': [50901.921875, 32701.40625, 19063.5234375, 9688.4443359375, 3874.995361328125, 947.8278198242188, 26.535133361816406, 209.85836791992188, 761.3844604492188, 1211.618896484375, 1367.126708984375, 1245.9044189453125, 958.015625, 637.1990356445312, 380.62713623046875, 212.590576171875, 116.34015655517578, 69.68965911865234, 51.79341506958008, 49.369903564453125, 58.92752456665039, 77.69039154052734, 100.96276092529297, 125.2951889038086, 144.32481384277344, 155.8993682861328, 156.4268341064453, 151.88494873046875, 142.86087036132812, 130.1600799560547]}\n",
            "[<tf.Variable 'dense_3/kernel:0' shape=(1, 1) dtype=float32, numpy=array([[4.3014774]], dtype=float32)>, <tf.Variable 'dense_3/bias:0' shape=(1,) dtype=float32, numpy=array([4.1342435], dtype=float32)>]\n"
          ]
        },
        {
          "output_type": "display_data",
          "data": {
            "image/png": "[encoded data removed]",
            "text/plain": [
              "<Figure size 432x288 with 1 Axes>"
            ]
          },
          "metadata": {
            "needs_background": "light"
          }
        },
        {
          "output_type": "display_data",
          "data": {
            "image/png": "[encoded data removed]",
            "text/plain": [
              "<Figure size 432x288 with 1 Axes>"
            ]
          },
          "metadata": {
            "needs_background": "light"
          }
        }
      ]
    }
  ]
}