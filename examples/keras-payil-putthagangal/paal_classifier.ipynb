{
  "nbformat": 4,
  "nbformat_minor": 0,
  "metadata": {
    "kernelspec": {
      "display_name": "Python 3",
      "language": "python",
      "name": "python3"
    },
    "language_info": {
      "codemirror_mode": {
        "name": "ipython",
        "version": 3
      },
      "file_extension": ".py",
      "mimetype": "text/x-python",
      "name": "python",
      "nbconvert_exporter": "python",
      "pygments_lexer": "ipython3",
      "version": "3.8.12"
    },
    "colab": {
      "name": "paal_classifier.ipynb",
      "provenance": []
    }
  },
  "cells": [
    {
      "cell_type": "code",
      "metadata": {
        "id": "FwC_1EdxTz2T"
      },
      "source": [
        "# (C) 2021, முத்து அண்ணாமலை <ezhillang@gmail.com>\n",
        "# இந்த நிரல் பொதுவெளி உரிமத்தில் வைக்கப்படுகிறது.\n",
        "# இந்த நிரல் வழி ஏற்படும் எந்த விளைவிற்கும் ஆசிரியை\n",
        "# பொருப்பு ஏற்றுக்கொள்ளமாட்டார்.\n",
        "# \n",
        "# Code adapted from https://github.com/javaidnabi31/Multi-class-with-imbalanced-dataset-classification/blob/master/20-news-group-classification.ipynb\n",
        "import pandas as pd\n",
        "import numpy as np\n",
        "import numpy.matlib\n",
        "import pickle\n",
        "from keras.models import Sequential, Model\n",
        "from keras.layers import Activation, Dense, Dropout\n",
        "from sklearn.preprocessing import LabelBinarizer\n",
        "import sklearn.datasets as skds\n",
        "from pathlib import Path\n",
        "import matplotlib.pyplot as plt\n",
        "import itertools\n",
        "from sklearn.metrics import confusion_matrix\n",
        "# For reproducibility\n",
        "np.random.seed(1237)"
      ],
      "execution_count": 1,
      "outputs": []
    },
    {
      "cell_type": "code",
      "metadata": {
        "colab": {
          "base_uri": "https://localhost:8080/"
        },
        "id": "CxDrLnlsULN2",
        "outputId": "6530cfb1-c5e0-4d32-aff5-5cadceb2876c"
      },
      "source": [
        "!pip install --upgrade open-tamil"
      ],
      "execution_count": 2,
      "outputs": [
        {
          "output_type": "stream",
          "name": "stdout",
          "text": [
            "Requirement already satisfied: open-tamil in /usr/local/lib/python3.7/dist-packages (1.0)\n"
          ]
        }
      ]
    },
    {
      "cell_type": "code",
      "metadata": {
        "colab": {
          "base_uri": "https://localhost:8080/"
        },
        "id": "BjGR43A_Tz2e",
        "outputId": "4758b8e7-ee7a-4908-e475-f09c19059d99"
      },
      "source": [
        "பால்_வகை = [\"அறத்துப்பால்\",\"பொருட்பால்\",\"காமத்துப்பால்\"]\n",
        "பால்_எண்ணிக்கை = len(பால்_வகை)\n",
        "\n",
        "import tamil\n",
        "import kural\n",
        "import re\n",
        "பால் = {}\n",
        "பால்[\"அறத்துப்பால்\"] = []\n",
        "பால்[\"பொருட்பால்\"] = []\n",
        "பால்[\"காமத்துப்பால்\"] = []\n",
        "\n",
        "மாதிரி = re.compile('\\n|\\.')\n",
        "திருக்குறள்_db = kural.Thirukkural()\n",
        "for பாவகை in பால்_வகை:\n",
        "    for குறள் in திருக்குறள்_db.get_kurals_from_pal(பாவகை):\n",
        "        பால்[பாவகை].append( re.sub(மாதிரி,'',குறள்.ta) )\n",
        "\n",
        "from pprint import pprint\n",
        "#pprint(பால்)\n",
        "\n",
        "for பா_பெயர், பா_மதிப்பு in பால்.items():\n",
        "    print(பா_பெயர்,len(பா_மதிப்பு))\n"
      ],
      "execution_count": 3,
      "outputs": [
        {
          "output_type": "stream",
          "name": "stdout",
          "text": [
            "அறத்துப்பால் 380\n",
            "பொருட்பால் 700\n",
            "காமத்துப்பால் 250\n"
          ]
        }
      ]
    },
    {
      "cell_type": "code",
      "metadata": {
        "colab": {
          "base_uri": "https://localhost:8080/"
        },
        "id": "yFHVS3NOTz2h",
        "outputId": "4f34d95b-9a71-4987-931e-be389a79eedd"
      },
      "source": [
        "print(\"குறள் மொத்த எண்ணிக்கை\",sum([len(பா_மதிப்பு) for பா_பெயர், பா_மதிப்பு in பால்.items()]))"
      ],
      "execution_count": 4,
      "outputs": [
        {
          "output_type": "stream",
          "name": "stdout",
          "text": [
            "குறள் மொத்த எண்ணிக்கை 1330\n"
          ]
        }
      ]
    },
    {
      "cell_type": "code",
      "metadata": {
        "id": "cEo3m2z1Tz2k"
      },
      "source": [
        "vocab_size = 247\n",
        "vectorized_size = 40\n",
        "batch_size = 100\n",
        "num_epochs = 30\n",
        "train_size_per_class=200 #150 என்று மாற்றினால் என்ன ஆகிறது? பாருங்கள்.\n",
        "train_size = train_size_per_class*பால்_எண்ணிக்கை"
      ],
      "execution_count": 18,
      "outputs": []
    },
    {
      "cell_type": "code",
      "metadata": {
        "id": "fzRtBWXOTz2m"
      },
      "source": [
        "#build vocabulary and text vectorizer\n",
        "from tensorflow.keras.layers.experimental.preprocessing import TextVectorization\n",
        "max_features = vocab_size\n",
        "vectorize_layer = TextVectorization(    \n",
        "    output_sequence_length=None,\n",
        "    max_tokens=max_features,\n",
        "    output_mode=\"int\",    \n",
        ")\n",
        "\n",
        "எழுத்து = []\n",
        "for குறள் in திருக்குறள்_db.iterator():\n",
        "    எழுத்து.extend( tamil.utf8.get_letters(குறள்[1]) )\n",
        "vectorize_layer.adapt( np.array( எழுத்து ) )"
      ],
      "execution_count": 19,
      "outputs": []
    },
    {
      "cell_type": "code",
      "metadata": {
        "colab": {
          "base_uri": "https://localhost:8080/"
        },
        "id": "mPm0JIqMTz2o",
        "outputId": "6ff6e533-0a7e-48d6-ab03-2279f589c01c"
      },
      "source": [
        "#குறட்பாக்களை எண்களாக மாற்றிடலாம். 40 இடங்கள் கொண்ட அணியாக ஆக்கிடலாம்;\n",
        "#கூடுதலாக 40-க்கு மேல் உள்ளதை அழித்தும், குறைவாக இருந்தால் அவற்றிற்கு 0-சேர்த்தும் \n",
        "#இணைத்திடலாம்.\n",
        "\n",
        "இடம்சூட்டு_சார்பு = lambda pos: np.eye(பால்_எண்ணிக்கை)[pos,:]\n",
        "பால்_அணி = {}\n",
        "பால்_வகை_குறியீடு = {}\n",
        "இடம்=0\n",
        "for பா_பெயர், பா_மதிப்பு in பால்.items():\n",
        "    val = np.zeros((40))\n",
        "    பால்_அணி[பா_பெயர்] = []\n",
        "    for குறள் in பா_மதிப்பு:\n",
        "        result = vectorize_layer(np.array(tamil.utf8.get_letters(குறள்))).numpy().squeeze()\n",
        "        கடைசி = min(len(result),vectorized_size)\n",
        "        val[:கடைசி]=result[:கடைசி]\n",
        "        பால்_அணி[பா_பெயர்].append( val )\n",
        "    பால்_வகை_குறியீடு[பா_பெயர்] = இடம்சூட்டு_சார்பு(இடம்)\n",
        "    இடம் += 1\n",
        "    \n",
        "#pprint(பால்_அணி[பா_பெயர்])\n",
        "for பா_பெயர், பா_மதிப்பு in பால்.items():\n",
        "    print(பா_பெயர்,np.array(பால்_அணி[பா_பெயர்]).shape)\n",
        "pprint(பால்_வகை_குறியீடு)\n"
      ],
      "execution_count": 20,
      "outputs": [
        {
          "output_type": "stream",
          "name": "stdout",
          "text": [
            "அறத்துப்பால் (380, 40)\n",
            "பொருட்பால் (700, 40)\n",
            "காமத்துப்பால் (250, 40)\n",
            "{'அறத்துப்பால்': array([1., 0., 0.]),\n",
            " 'காமத்துப்பால்': array([0., 0., 1.]),\n",
            " 'பொருட்பால்': array([0., 1., 0.])}\n"
          ]
        }
      ]
    },
    {
      "cell_type": "code",
      "metadata": {
        "id": "v9KFTCjcTz2p"
      },
      "source": [
        "# பயில்விக்கும் தரவுகளையும் பரிசோதிக்கும் தரவுகளையும் தயார்படுத்தவும்.\n",
        "x_பயில்,y_பயில் = [],[]\n",
        "x_பரிசோதி,y_பரிசோதி = [],[]\n",
        "\n",
        "for பா_பெயர், பா_மதிப்பு in பால்.items():\n",
        "    # முதல் @train_size_per_class@ ,இங்கு 200, மாரிலி அளவு சேர்க்கப்படுகிறது\n",
        "    x_பயில்.append( np.array(பால்_அணி[பா_பெயர்][:train_size_per_class]) )\n",
        "    y_பயில்.append( np.matlib.repmat( பால்_வகை_குறியீடு[பா_பெயர்], train_size_per_class,1) )\n",
        "    \n",
        "    x_பரிசோதி.append( np.array(பால்_அணி[பா_பெயர்][train_size_per_class:]) )\n",
        "    y_பரிசோதி.append( numpy.matlib.repmat( பால்_வகை_குறியீடு[பா_பெயர்], len(x_பரிசோதி[-1]),1) )\n",
        "\n",
        "x_பயில் = np.concatenate(x_பயில்)\n",
        "y_பயில் = np.concatenate(y_பயில்)\n",
        "x_பரிசோதி = np.concatenate(x_பரிசோதி)\n",
        "y_பரிசோதி = np.concatenate(y_பரிசோதி)\n",
        "\n",
        "if False: #swap?\n",
        "  x_பயில்,x_பரிசோதி=x_பரிசோதி,x_பயில்\n",
        "  y_பயில்,y_பரிசோதி=y_பரிசோதி,y_பயில்"
      ],
      "execution_count": 21,
      "outputs": []
    },
    {
      "cell_type": "code",
      "metadata": {
        "colab": {
          "base_uri": "https://localhost:8080/"
        },
        "id": "z_LE88gdTz2q",
        "outputId": "8d9a0abf-99d8-4fe6-f009-13ff9f682dd4"
      },
      "source": [
        "print(x_பயில்.shape)\n",
        "print(y_பயில்.shape)\n",
        "print(x_பரிசோதி.shape)\n",
        "print(y_பரிசோதி.shape)"
      ],
      "execution_count": 22,
      "outputs": [
        {
          "output_type": "stream",
          "name": "stdout",
          "text": [
            "(600, 40)\n",
            "(600, 3)\n",
            "(730, 40)\n",
            "(730, 3)\n"
          ]
        }
      ]
    },
    {
      "cell_type": "code",
      "metadata": {
        "colab": {
          "base_uri": "https://localhost:8080/"
        },
        "id": "Aol3HjwCTz2s",
        "outputId": "7df9c4de-5f18-40e5-9049-13dea0f612df"
      },
      "source": [
        "#பால் பகுப்பாய்வு மாதிரி\n",
        "model = Sequential()\n",
        "model.add(Dense(8, input_shape=(vectorized_size,)))\n",
        "model.add(Activation('relu'))\n",
        "#model.add(Dropout(0.3))\n",
        "model.add(Dense(16)) #12 என்பதையும் பயன்படுத்தி பார்க்கலாம்\n",
        "model.add(Activation('relu'))\n",
        "#model.add(Dropout(0.3))\n",
        "model.add(Dense(பால்_எண்ணிக்கை))\n",
        "model.add(Activation('softmax'))\n",
        "model.summary()\n",
        "\n",
        "model.compile(loss='categorical_crossentropy',\n",
        "              optimizer='adam',\n",
        "              metrics=['accuracy'])"
      ],
      "execution_count": 23,
      "outputs": [
        {
          "output_type": "stream",
          "name": "stdout",
          "text": [
            "Model: \"sequential_1\"\n",
            "_________________________________________________________________\n",
            " Layer (type)                Output Shape              Param #   \n",
            "=================================================================\n",
            " dense_3 (Dense)             (None, 8)                 328       \n",
            "                                                                 \n",
            " activation_3 (Activation)   (None, 8)                 0         \n",
            "                                                                 \n",
            " dense_4 (Dense)             (None, 16)                144       \n",
            "                                                                 \n",
            " activation_4 (Activation)   (None, 16)                0         \n",
            "                                                                 \n",
            " dense_5 (Dense)             (None, 3)                 51        \n",
            "                                                                 \n",
            " activation_5 (Activation)   (None, 3)                 0         \n",
            "                                                                 \n",
            "=================================================================\n",
            "Total params: 523\n",
            "Trainable params: 523\n",
            "Non-trainable params: 0\n",
            "_________________________________________________________________\n"
          ]
        }
      ]
    },
    {
      "cell_type": "code",
      "metadata": {
        "colab": {
          "base_uri": "https://localhost:8080/"
        },
        "id": "ZghEWmjKTz2u",
        "outputId": "b39434ff-90b6-466b-b46c-db340f636768"
      },
      "source": [
        "num_epochs = 15\n",
        "batch_size = 64\n",
        "history = model.fit(x_பயில், y_பயில்,\n",
        "                    batch_size=batch_size,\n",
        "                    epochs=num_epochs,\n",
        "                    verbose=2,\n",
        "                    validation_split=0.2) #0.5"
      ],
      "execution_count": 24,
      "outputs": [
        {
          "output_type": "stream",
          "name": "stdout",
          "text": [
            "Epoch 1/15\n",
            "8/8 - 1s - loss: 54.4702 - accuracy: 0.4167 - val_loss: 34.8401 - val_accuracy: 0.0000e+00 - 737ms/epoch - 92ms/step\n",
            "Epoch 2/15\n",
            "8/8 - 0s - loss: 43.9025 - accuracy: 0.4167 - val_loss: 24.9466 - val_accuracy: 0.0000e+00 - 35ms/epoch - 4ms/step\n",
            "Epoch 3/15\n",
            "8/8 - 0s - loss: 34.6799 - accuracy: 0.4167 - val_loss: 16.4474 - val_accuracy: 0.0000e+00 - 33ms/epoch - 4ms/step\n",
            "Epoch 4/15\n",
            "8/8 - 0s - loss: 26.7040 - accuracy: 0.2583 - val_loss: 10.3738 - val_accuracy: 0.0000e+00 - 33ms/epoch - 4ms/step\n",
            "Epoch 5/15\n",
            "8/8 - 0s - loss: 19.7624 - accuracy: 0.4167 - val_loss: 6.2446 - val_accuracy: 0.0000e+00 - 28ms/epoch - 4ms/step\n",
            "Epoch 6/15\n",
            "8/8 - 0s - loss: 11.7052 - accuracy: 0.2208 - val_loss: 2.2058 - val_accuracy: 0.0000e+00 - 31ms/epoch - 4ms/step\n",
            "Epoch 7/15\n",
            "8/8 - 0s - loss: 4.6138 - accuracy: 0.4917 - val_loss: 0.4535 - val_accuracy: 1.0000 - 37ms/epoch - 5ms/step\n",
            "Epoch 8/15\n",
            "8/8 - 0s - loss: 0.7997 - accuracy: 0.7229 - val_loss: 0.1239 - val_accuracy: 1.0000 - 33ms/epoch - 4ms/step\n",
            "Epoch 9/15\n",
            "8/8 - 0s - loss: 0.0223 - accuracy: 1.0000 - val_loss: 0.0511 - val_accuracy: 1.0000 - 35ms/epoch - 4ms/step\n",
            "Epoch 10/15\n",
            "8/8 - 0s - loss: 0.0081 - accuracy: 1.0000 - val_loss: 0.0347 - val_accuracy: 1.0000 - 42ms/epoch - 5ms/step\n",
            "Epoch 11/15\n",
            "8/8 - 0s - loss: 0.0055 - accuracy: 1.0000 - val_loss: 0.0256 - val_accuracy: 1.0000 - 34ms/epoch - 4ms/step\n",
            "Epoch 12/15\n",
            "8/8 - 0s - loss: 0.0041 - accuracy: 1.0000 - val_loss: 0.0203 - val_accuracy: 1.0000 - 52ms/epoch - 6ms/step\n",
            "Epoch 13/15\n",
            "8/8 - 0s - loss: 0.0033 - accuracy: 1.0000 - val_loss: 0.0168 - val_accuracy: 1.0000 - 37ms/epoch - 5ms/step\n",
            "Epoch 14/15\n",
            "8/8 - 0s - loss: 0.0028 - accuracy: 1.0000 - val_loss: 0.0143 - val_accuracy: 1.0000 - 42ms/epoch - 5ms/step\n",
            "Epoch 15/15\n",
            "8/8 - 0s - loss: 0.0024 - accuracy: 1.0000 - val_loss: 0.0125 - val_accuracy: 1.0000 - 34ms/epoch - 4ms/step\n"
          ]
        }
      ]
    },
    {
      "cell_type": "code",
      "metadata": {
        "id": "EY3jufqJTz2v"
      },
      "source": [
        "#indexes = np.random.choice(np.arange(len(பால்_அணி[பா_பெயர்])),replace=False,size=train_size_per_class)\n",
        "#முதல் 200 குறட்பாக்களை கொண்டு பயில்விக்கலாம்.\n"
      ],
      "execution_count": 25,
      "outputs": []
    },
    {
      "cell_type": "code",
      "metadata": {
        "colab": {
          "base_uri": "https://localhost:8080/",
          "height": 295
        },
        "id": "x8uhK_hCTz2x",
        "outputId": "6983c6e4-388f-4d59-862d-1627e9e87ab5"
      },
      "source": [
        "# accuracy, loss, validation curves\n",
        "import matplotlib.pyplot as plt\n",
        "plt.plot(history.history['accuracy'])\n",
        "plt.plot(history.history['val_accuracy'])\n",
        "#plt.plot(history.history['loss'])\n",
        "plt.title('Model accuracy')\n",
        "plt.ylabel('Accuracy')\n",
        "plt.xlabel('Epoch')\n",
        "plt.grid(True)\n",
        "plt.legend(['Train', 'Test'], loc='lower right')\n",
        "plt.show()"
      ],
      "execution_count": 26,
      "outputs": [
        {
          "output_type": "display_data",
          "data": {
            "image/png": "[encoded data removed]",
            "text/plain": [
              "<Figure size 432x288 with 1 Axes>"
            ]
          },
          "metadata": {
            "needs_background": "light"
          }
        }
      ]
    },
    {
      "cell_type": "code",
      "metadata": {
        "colab": {
          "base_uri": "https://localhost:8080/"
        },
        "id": "pBN3n-oZTz2x",
        "outputId": "9e95d74d-f1e9-4c34-a244-fc186fbd1a4a"
      },
      "source": [
        "loss, acc = model.evaluate(x_பரிசோதி, y_பரிசோதி,\n",
        "                       batch_size=batch_size, verbose=2)\n",
        "\n",
        "print('Test accuracy:', acc)\n",
        "print('Test loss:',loss)"
      ],
      "execution_count": 27,
      "outputs": [
        {
          "output_type": "stream",
          "name": "stdout",
          "text": [
            "12/12 - 0s - loss: 9.7661e-04 - accuracy: 1.0000 - 32ms/epoch - 3ms/step\n",
            "Test accuracy: 1.0\n",
            "Test loss: 0.0009766145376488566\n"
          ]
        }
      ]
    },
    {
      "cell_type": "code",
      "metadata": {
        "colab": {
          "base_uri": "https://localhost:8080/"
        },
        "id": "5zB1d_XdTz2y",
        "outputId": "ba308a96-0161-45bc-a611-a48d2a2a7abc"
      },
      "source": [
        "# வரிசையற்றபடி பரிசோதிக்கும் தரவில் பகுப்பய்வை நிரல்படுத்திப்பார்த்தல்:\n",
        "for _ in range(10):\n",
        "    இடம் = np.random.choice(np.arange( len(x_பரிசோதி) ) )\n",
        "    print(இடம்)\n",
        "    prediction = model.predict(x_பரிசோதி[இடம்].reshape(1,40))\n",
        "    print(prediction[0])\n",
        "    predicted_label = பால்_வகை[np.argmax(prediction[0])]\n",
        "    print(predicted_label,'actual=>',y_பரிசோதி[இடம்])\n",
        "    print('மெய் விடை>> :' +  பால்_வகை[ np.argmax(y_பரிசோதி[இடம்]) ], '|',\"பின்னல் விடை >> : \" + predicted_label)"
      ],
      "execution_count": 28,
      "outputs": [
        {
          "output_type": "stream",
          "name": "stdout",
          "text": [
            "204\n",
            "[1.0602131e-06 9.9996889e-01 3.0003897e-05]\n",
            "பொருட்பால் actual=> [0. 1. 0.]\n",
            "மெய் விடை>> :பொருட்பால் | பின்னல் விடை >> : பொருட்பால்\n",
            "399\n",
            "[1.0602131e-06 9.9996889e-01 3.0003897e-05]\n",
            "பொருட்பால் actual=> [0. 1. 0.]\n",
            "மெய் விடை>> :பொருட்பால் | பின்னல் விடை >> : பொருட்பால்\n",
            "441\n",
            "[1.0602131e-06 9.9996889e-01 3.0003897e-05]\n",
            "பொருட்பால் actual=> [0. 1. 0.]\n",
            "மெய் விடை>> :பொருட்பால் | பின்னல் விடை >> : பொருட்பால்\n",
            "469\n",
            "[1.0602131e-06 9.9996889e-01 3.0003897e-05]\n",
            "பொருட்பால் actual=> [0. 1. 0.]\n",
            "மெய் விடை>> :பொருட்பால் | பின்னல் விடை >> : பொருட்பால்\n",
            "10\n",
            "[9.9959117e-01 4.0117055e-04 7.6324632e-06]\n",
            "அறத்துப்பால் actual=> [1. 0. 0.]\n",
            "மெய் விடை>> :அறத்துப்பால் | பின்னல் விடை >> : அறத்துப்பால்\n",
            "72\n",
            "[9.9959117e-01 4.0117055e-04 7.6324632e-06]\n",
            "அறத்துப்பால் actual=> [1. 0. 0.]\n",
            "மெய் விடை>> :அறத்துப்பால் | பின்னல் விடை >> : அறத்துப்பால்\n",
            "589\n",
            "[1.0602131e-06 9.9996889e-01 3.0003897e-05]\n",
            "பொருட்பால் actual=> [0. 1. 0.]\n",
            "மெய் விடை>> :பொருட்பால் | பின்னல் விடை >> : பொருட்பால்\n",
            "352\n",
            "[1.0602131e-06 9.9996889e-01 3.0003897e-05]\n",
            "பொருட்பால் actual=> [0. 1. 0.]\n",
            "மெய் விடை>> :பொருட்பால் | பின்னல் விடை >> : பொருட்பால்\n",
            "128\n",
            "[9.9959117e-01 4.0117055e-04 7.6324632e-06]\n",
            "அறத்துப்பால் actual=> [1. 0. 0.]\n",
            "மெய் விடை>> :அறத்துப்பால் | பின்னல் விடை >> : அறத்துப்பால்\n",
            "268\n",
            "[1.0602131e-06 9.9996889e-01 3.0003897e-05]\n",
            "பொருட்பால் actual=> [0. 1. 0.]\n",
            "மெய் விடை>> :பொருட்பால் | பின்னல் விடை >> : பொருட்பால்\n"
          ]
        }
      ]
    },
    {
      "cell_type": "code",
      "metadata": {
        "id": "Uw_ptSMTTz2z"
      },
      "source": [
        "def plot_confusion_matrix(cm, classes,\n",
        "                          normalize=False,\n",
        "                          title='Confusion matrix',\n",
        "                          cmap=plt.cm.Blues):\n",
        "    \"\"\"\n",
        "    This function prints and plots the confusion matrix.\n",
        "    Normalization can be applied by setting `normalize=True`.\n",
        "    \"\"\"\n",
        "    if normalize:\n",
        "        cm = cm.astype('float') / cm.sum(axis=1)[:, np.newaxis]\n",
        "        print(\"Normalized confusion matrix\")\n",
        "    else:\n",
        "        print('Confusion matrix, without normalization')\n",
        "\n",
        "    # print(cm)\n",
        "\n",
        "    plt.imshow(cm, interpolation='nearest', cmap=cmap)\n",
        "    plt.title(title)\n",
        "    plt.colorbar()\n",
        "    tick_marks = np.arange(len(classes))\n",
        "    plt.xticks(tick_marks, classes, rotation=90)\n",
        "    plt.yticks(tick_marks, classes)\n",
        "\n",
        "    fmt = '.2f' if normalize else 'd'\n",
        "    thresh = cm.max() / 2.\n",
        "    for i, j in itertools.product(range(cm.shape[0]), range(cm.shape[1])):\n",
        "        plt.text(j, i, format(cm[i, j], fmt),\n",
        "                 horizontalalignment=\"center\",\n",
        "                 color=\"white\" if cm[i, j] > thresh else \"black\")\n",
        "\n",
        "    plt.tight_layout()\n",
        "    plt.ylabel('True label')\n",
        "    plt.xlabel('Predicted label')\n",
        "    "
      ],
      "execution_count": 16,
      "outputs": []
    },
    {
      "cell_type": "code",
      "metadata": {
        "colab": {
          "base_uri": "https://localhost:8080/",
          "height": 1000
        },
        "id": "dUArfyiKTz20",
        "outputId": "d1a9fb17-f8c8-459a-e2f0-c1ec3a73d0ed"
      },
      "source": [
        "y_பின்னல்_விடை = model.predict(x_பரிசோதி)\n",
        "cnf_matrix = confusion_matrix(np.argmax(y_பரிசோதி, axis=1), np.argmax(y_பின்னல்_விடை, axis=1))\n",
        "\n",
        "# Plot normalized confusion matrix\n",
        "fig = plt.figure()\n",
        "fig.set_size_inches(14, 12, forward=True)    \n",
        "\n",
        "# fig.subplots_adjust(left=0.0, right=1.0, bottom=0.0, top=1.0)\n",
        "plot_confusion_matrix(cnf_matrix, classes=np.asarray(பால்_வகை), normalize=True,\n",
        "                      title='Normalized confusion matrix')\n",
        "plt.show()\n"
      ],
      "execution_count": 29,
      "outputs": [
        {
          "output_type": "stream",
          "name": "stdout",
          "text": [
            "Normalized confusion matrix\n"
          ]
        },
        {
          "output_type": "stream",
          "name": "stderr",
          "text": [
            "/usr/local/lib/python3.7/dist-packages/matplotlib/backends/backend_agg.py:214: RuntimeWarning: Glyph 2949 missing from current font.\n",
            "  font.set_text(s, 0.0, flags=flags)\n",
            "/usr/local/lib/python3.7/dist-packages/matplotlib/backends/backend_agg.py:214: RuntimeWarning: Glyph 2993 missing from current font.\n",
            "  font.set_text(s, 0.0, flags=flags)\n",
            "/usr/local/lib/python3.7/dist-packages/matplotlib/backends/backend_agg.py:214: RuntimeWarning: Glyph 2980 missing from current font.\n",
            "  font.set_text(s, 0.0, flags=flags)\n",
            "/usr/local/lib/python3.7/dist-packages/matplotlib/backends/backend_agg.py:214: RuntimeWarning: Glyph 3021 missing from current font.\n",
            "  font.set_text(s, 0.0, flags=flags)\n",
            "/usr/local/lib/python3.7/dist-packages/matplotlib/backends/backend_agg.py:214: RuntimeWarning: Glyph 3009 missing from current font.\n",
            "  font.set_text(s, 0.0, flags=flags)\n",
            "/usr/local/lib/python3.7/dist-packages/matplotlib/backends/backend_agg.py:214: RuntimeWarning: Glyph 2986 missing from current font.\n",
            "  font.set_text(s, 0.0, flags=flags)\n",
            "/usr/local/lib/python3.7/dist-packages/matplotlib/backends/backend_agg.py:214: RuntimeWarning: Glyph 3006 missing from current font.\n",
            "  font.set_text(s, 0.0, flags=flags)\n",
            "/usr/local/lib/python3.7/dist-packages/matplotlib/backends/backend_agg.py:214: RuntimeWarning: Glyph 2994 missing from current font.\n",
            "  font.set_text(s, 0.0, flags=flags)\n",
            "/usr/local/lib/python3.7/dist-packages/matplotlib/backends/backend_agg.py:214: RuntimeWarning: Glyph 3018 missing from current font.\n",
            "  font.set_text(s, 0.0, flags=flags)\n",
            "/usr/local/lib/python3.7/dist-packages/matplotlib/backends/backend_agg.py:214: RuntimeWarning: Glyph 2992 missing from current font.\n",
            "  font.set_text(s, 0.0, flags=flags)\n",
            "/usr/local/lib/python3.7/dist-packages/matplotlib/backends/backend_agg.py:214: RuntimeWarning: Glyph 2975 missing from current font.\n",
            "  font.set_text(s, 0.0, flags=flags)\n",
            "/usr/local/lib/python3.7/dist-packages/matplotlib/backends/backend_agg.py:214: RuntimeWarning: Glyph 2965 missing from current font.\n",
            "  font.set_text(s, 0.0, flags=flags)\n",
            "/usr/local/lib/python3.7/dist-packages/matplotlib/backends/backend_agg.py:214: RuntimeWarning: Glyph 2990 missing from current font.\n",
            "  font.set_text(s, 0.0, flags=flags)\n",
            "/usr/local/lib/python3.7/dist-packages/matplotlib/backends/backend_agg.py:183: RuntimeWarning: Glyph 2949 missing from current font.\n",
            "  font.set_text(s, 0, flags=flags)\n",
            "/usr/local/lib/python3.7/dist-packages/matplotlib/backends/backend_agg.py:183: RuntimeWarning: Glyph 2993 missing from current font.\n",
            "  font.set_text(s, 0, flags=flags)\n",
            "/usr/local/lib/python3.7/dist-packages/matplotlib/backends/backend_agg.py:183: RuntimeWarning: Glyph 2980 missing from current font.\n",
            "  font.set_text(s, 0, flags=flags)\n",
            "/usr/local/lib/python3.7/dist-packages/matplotlib/backends/backend_agg.py:183: RuntimeWarning: Glyph 3021 missing from current font.\n",
            "  font.set_text(s, 0, flags=flags)\n",
            "/usr/local/lib/python3.7/dist-packages/matplotlib/backends/backend_agg.py:183: RuntimeWarning: Glyph 3009 missing from current font.\n",
            "  font.set_text(s, 0, flags=flags)\n",
            "/usr/local/lib/python3.7/dist-packages/matplotlib/backends/backend_agg.py:183: RuntimeWarning: Glyph 2986 missing from current font.\n",
            "  font.set_text(s, 0, flags=flags)\n",
            "/usr/local/lib/python3.7/dist-packages/matplotlib/backends/backend_agg.py:183: RuntimeWarning: Glyph 3006 missing from current font.\n",
            "  font.set_text(s, 0, flags=flags)\n",
            "/usr/local/lib/python3.7/dist-packages/matplotlib/backends/backend_agg.py:183: RuntimeWarning: Glyph 2994 missing from current font.\n",
            "  font.set_text(s, 0, flags=flags)\n",
            "/usr/local/lib/python3.7/dist-packages/matplotlib/backends/backend_agg.py:183: RuntimeWarning: Glyph 3018 missing from current font.\n",
            "  font.set_text(s, 0, flags=flags)\n",
            "/usr/local/lib/python3.7/dist-packages/matplotlib/backends/backend_agg.py:183: RuntimeWarning: Glyph 2992 missing from current font.\n",
            "  font.set_text(s, 0, flags=flags)\n",
            "/usr/local/lib/python3.7/dist-packages/matplotlib/backends/backend_agg.py:183: RuntimeWarning: Glyph 2975 missing from current font.\n",
            "  font.set_text(s, 0, flags=flags)\n",
            "/usr/local/lib/python3.7/dist-packages/matplotlib/backends/backend_agg.py:183: RuntimeWarning: Glyph 2965 missing from current font.\n",
            "  font.set_text(s, 0, flags=flags)\n",
            "/usr/local/lib/python3.7/dist-packages/matplotlib/backends/backend_agg.py:183: RuntimeWarning: Glyph 2990 missing from current font.\n",
            "  font.set_text(s, 0, flags=flags)\n"
          ]
        },
        {
          "output_type": "display_data",
          "data": {
            "image/png": "[encoded data removed]",
            "text/plain": [
              "<Figure size 1008x864 with 2 Axes>"
            ]
          },
          "metadata": {
            "needs_background": "light"
          }
        }
      ]
    },
    {
      "cell_type": "code",
      "metadata": {
        "id": "Ftse6gscTz21"
      },
      "source": [
        ""
      ],
      "execution_count": 17,
      "outputs": []
    }
  ]
}