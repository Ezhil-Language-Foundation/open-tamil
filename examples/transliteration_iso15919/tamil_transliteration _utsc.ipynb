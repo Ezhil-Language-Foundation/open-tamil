{
 "cells": [
  {
   "cell_type": "markdown",
   "metadata": {},
   "source": [
    "This script takes a csv with tamil entries and outputs another csv which contains both the original and the transliterated strings with ISO 15919. \n",
    "\n",
    "To run, make sure to have the 'pandas' library installed as well as the open-tamil library (make sure to change the sys.path.append() on the second line to point where you have open-tamil located!). From there, you can run it on the example.csv file and it will output the file output.csv. You can edit the \"titles\" array to change what columns you would like to transliterate.\n",
    "\n",
    "It was created by the University of Toronto Scarborough's digital scholarship unit for the Tamil collection.\n",
    "https://digital.utsc.utoronto.ca/"
   ]
  },
  {
   "cell_type": "code",
   "execution_count": 13,
   "metadata": {},
   "outputs": [],
   "source": [
    "# Import Open-Tamil\n",
    "import sys\n",
    "sys.path.append(\"[path to open tamil goes here]\")\n",
    "\n",
    "# Import statements\n",
    "import tamil\n",
    "import csv\n",
    "import pandas as pd\n",
    "from transliterate import azhagi, jaffna, combinational, UOM, ISO, itrans, algorithm\n",
    "\n",
    "# Get data from csv and ISO from Open Tamil package\n",
    "ISO_table = ISO.ReverseTransliteration.table\n",
    "\n",
    "# Read input file\n",
    "csv_data = pd.read_csv('example.csv')"
   ]
  },
  {
   "cell_type": "code",
   "execution_count": 14,
   "metadata": {},
   "outputs": [],
   "source": [
    "# Helper function to save to an output file\n",
    "def save_to_csv(data: list) -> None:\n",
    "    \"\"\" Takes a two dimensional list as input,\n",
    "    with each nested list being a column of data,\n",
    "    and saves it to an output.csv file\n",
    "    \"\"\"\n",
    "            \n",
    "    # Zip lists into format suitable for csv\n",
    "    zipped_list = zip(*data)\n",
    "\n",
    "    # Open csv file for writing\n",
    "    with open('output.csv', \"w\") as f: \n",
    "        writer = csv.writer(f)\n",
    "        \n",
    "        # Add each row to the csv file\n",
    "        for row in zipped_list:\n",
    "            writer.writerow(row)"
   ]
  },
  {
   "cell_type": "code",
   "execution_count": 15,
   "metadata": {},
   "outputs": [],
   "source": [
    "# Helper function to check for unknown column names\n",
    "def filter_column_list(column_list: list) -> list:\n",
    "    \"\"\" Takes a list of arguments and returns\n",
    "    a list containing only the arguments which\n",
    "    are column titles in the csv file\n",
    "    \"\"\"\n",
    "    \n",
    "    # Create list to store valid column names\n",
    "    found_titles = []\n",
    "    \n",
    "    # Loop through arguments\n",
    "    for title in column_list:\n",
    "        if title in csv_data:\n",
    "            # If column name is in the file, keep it\n",
    "            found_titles.append(title)\n",
    "        else:\n",
    "            # If column name is not in the file, skip it and alert user\n",
    "            print(\"[Argument '\" + title + \"' was not found in csv file. Make sure your arguments are titles of the columns.]\")\n",
    "            \n",
    "    return found_titles"
   ]
  },
  {
   "cell_type": "code",
   "execution_count": 16,
   "metadata": {},
   "outputs": [],
   "source": [
    "# Helper function to get transliterated columns\n",
    "def transliterate_index(col_name: str) -> list:\n",
    "    \"\"\" Given a column title of the csv file,\n",
    "    gets the data from both the ISO transliteration\n",
    "    and original Tamil column and returns it as\n",
    "    a nested array\n",
    "    \"\"\"\n",
    "    \n",
    "    # Create lists to store transliterated data, with the title being the \n",
    "    # first entry for the csv file\n",
    "    eng_list = [col_name + \"_iso_15919\"]\n",
    "    tamil_list = [col_name]\n",
    "\n",
    "    # Loop through column\n",
    "    for index, row in csv_data.iterrows():\n",
    "        \n",
    "        # Get cell data\n",
    "        tamil_str = row[col_name]\n",
    "\n",
    "        # Check if content exists\n",
    "        if tamil_str != tamil_str:\n",
    "            # If cell is empty, add empty strings\n",
    "            eng_list.append(\"\")\n",
    "            tamil_list.append(\"\")\n",
    "        else:\n",
    "            # If cell has data, transliterate string and add to list\n",
    "            eng_str = algorithm.Direct.transliterate(ISO_table, tamil_str)\n",
    "            eng_list.append(eng_str)\n",
    "            tamil_list.append(tamil_str)\n",
    "                \n",
    "    return [eng_list, tamil_list]"
   ]
  },
  {
   "cell_type": "code",
   "execution_count": 17,
   "metadata": {},
   "outputs": [],
   "source": [
    "# Main function to be called on\n",
    "def transliterate_csv(column_list: list) -> None:\n",
    "    \"\"\" Given a list of column titles, saves the\n",
    "    Tamil and ISO transliterated data of each column\n",
    "    to a csv file\n",
    "    \"\"\"\n",
    "\n",
    "    # Check for unknown arguments\n",
    "    titles = filter_column_list(column_list)\n",
    "    \n",
    "    # Create list to be saved to csv format\n",
    "    output_csv_list = []\n",
    "    \n",
    "    # Loop over all the columns in csv file\n",
    "    for index, col in csv_data.iteritems():\n",
    "        \n",
    "        # Check if title of column matches argument\n",
    "        if index in titles:                \n",
    "            # Transliterate row and add both tamil and english to output list\n",
    "            data = transliterate_index(index)\n",
    "            output_csv_list.append(data[0])\n",
    "            output_csv_list.append(data[1])\n",
    "    \n",
    "    # Save the data as a csv file\n",
    "    save_to_csv(output_csv_list)"
   ]
  },
  {
   "cell_type": "code",
   "execution_count": 18,
   "metadata": {},
   "outputs": [],
   "source": [
    "# Script is ran here!\n",
    "# Example list from example.csv\n",
    "titles = ['title_tamil', 'publisher_tamil', 'type_of_resource']\n",
    "transliterate_csv(titles)"
   ]
  }
 ],
 "metadata": {
  "kernelspec": {
   "display_name": "Python 3",
   "language": "python",
   "name": "python3"
  },
  "language_info": {
   "codemirror_mode": {
    "name": "ipython",
    "version": 3
   },
   "file_extension": ".py",
   "mimetype": "text/x-python",
   "name": "python",
   "nbconvert_exporter": "python",
   "pygments_lexer": "ipython3",
   "version": "3.7.7"
  }
 },
 "nbformat": 4,
 "nbformat_minor": 2
}
